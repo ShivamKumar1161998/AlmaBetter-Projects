{
  "nbformat": 4,
  "nbformat_minor": 0,
  "metadata": {
    "colab": {
      "private_outputs": true,
      "provenance": [],
      "collapsed_sections": [
        "w6K7xa23Elo4",
        "yQaldy8SH6Dl",
        "PH-0ReGfmX4f",
        "mDgbUHAGgjLW",
        "MSa1f5Uengrz",
        "GF8Ens_Soomf",
        "0wOQAZs5pc--",
        "K5QZ13OEpz2H",
        "lQ7QKXXCp7Bj",
        "448CDAPjqfQr",
        "KSlN3yHqYklG",
        "t6dVpIINYklI",
        "ijmpgYnKYklI",
        "-JiQyfWJYklI",
        "EM7whBJCYoAo",
        "fge-S5ZAYoAp",
        "85gYPyotYoAp",
        "RoGjAbkUYoAp",
        "4Of9eVA-YrdM",
        "iky9q4vBYrdO",
        "F6T5p64dYrdO",
        "y-Ehk30pYrdP",
        "bamQiAODYuh1",
        "QHF8YVU7Yuh3",
        "GwzvFGzlYuh3",
        "qYpmQ266Yuh3",
        "OH-pJp9IphqM",
        "bbFf2-_FphqN",
        "_ouA3fa0phqN",
        "Seke61FWphqN",
        "PIIx-8_IphqN",
        "t27r6nlMphqO",
        "r2jJGEOYphqO",
        "b0JNsNcRphqO",
        "BZR9WyysphqO",
        "jj7wYXLtphqO",
        "eZrbJ2SmphqO",
        "rFu4xreNphqO",
        "YJ55k-q6phqO",
        "gCFgpxoyphqP",
        "OVtJsKN_phqQ",
        "lssrdh5qphqQ",
        "U2RJ9gkRphqQ",
        "1M8mcRywphqQ",
        "tgIPom80phqQ",
        "JMzcOPDDphqR",
        "x-EpHcCOp1ci",
        "X_VqEhTip1ck",
        "8zGJKyg5p1ck",
        "PVzmfK_Ep1ck",
        "n3dbpmDWp1ck",
        "ylSl6qgtp1ck",
        "ZWILFDl5p1ck",
        "M7G43BXep1ck",
        "Ag9LCva-p1cl",
        "E6MkPsBcp1cl",
        "2cELzS2fp1cl",
        "3MPXvC8up1cl",
        "NC_X3p0fY2L0",
        "UV0SzAkaZNRQ",
        "YPEH6qLeZNRQ",
        "q29F0dvdveiT",
        "EXh0U9oCveiU",
        "22aHeOlLveiV",
        "JcMwzZxoAimU",
        "8G2x9gOozGDZ",
        "gCX9965dhzqZ",
        "gIfDvo9L0UH2"
      ]
    },
    "kernelspec": {
      "name": "python3",
      "display_name": "Python 3"
    },
    "language_info": {
      "name": "python"
    }
  },
  "cells": [
    {
      "cell_type": "markdown",
      "source": [
        "# **Project Name**   - Hotel Booking Analysis-\n",
        "\n"
      ],
      "metadata": {
        "id": "vncDsAP0Gaoa"
      }
    },
    {
      "cell_type": "markdown",
      "source": [
        "##### **Project Type**    - EDA\n",
        "##### **Contribution**    - Individual\n"
      ],
      "metadata": {
        "id": "beRrZCGUAJYm"
      }
    },
    {
      "cell_type": "markdown",
      "source": [
        "# **Project Summary -**"
      ],
      "metadata": {
        "id": "FJNUwmbgGyua"
      }
    },
    {
      "cell_type": "markdown",
      "source": [
        "This project focuses on analyzing hotel booking data to gain insights into customer behavior and identify trends that can aid in decision-making. The dataset, Hotel_Booking.csv, is loaded and preprocessed using Python libraries such as NumPy, Pandas, Matplotlib, Seaborn, and Plotly.\n",
        "\n",
        "Data Preprocessing\n",
        "Data Cleaning:\n",
        "\n",
        "The agent and company columns, which contain missing values, are filled with their respective mean values.\n",
        "Duplicate rows are removed, and remaining missing values are filled with zeros.\n",
        "The cleaned dataset is free from missing values.\n",
        "Filtering Data:\n",
        "\n",
        "The dataset is filtered to exclude bookings with no adults, children, or babies to ensure we are analyzing valid bookings.\n",
        "Analysis and Visualizations\n",
        "Best Time to Book a Hotel:\n",
        "\n",
        "Data is split into Resort Hotel and City Hotel categories, considering only non-canceled bookings.\n",
        "The average daily rate (ADR) for each month is calculated for both types of hotels.\n",
        "A function sort_month is used to order the months correctly for better analysis.\n",
        "Result:\n",
        "\n",
        "The sorted monthly ADRs for both hotel types are plotted to identify the best time of year to book a hotel.\n",
        "Guest Rush Periods:\n",
        "\n",
        "Monthly guest counts for Resort and City Hotels are calculated and merged.\n",
        "The data is sorted to reflect the correct chronological order of months.\n",
        "Result:\n",
        "\n",
        "The rush periods, showing the number of guests each month for both hotel types, are identified.\n",
        "Optimal Length of Stay:\n",
        "\n",
        "The dataset is filtered to include only non-canceled bookings.\n",
        "The total number of nights (weekend and weeknights) is calculated.\n",
        "The mean total number of nights is determined to find the optimal length of stay.\n",
        "Result:\n",
        "\n",
        "The optimal length of stay to get the best daily rate is identified.\n",
        "Predicting High Number of Special Requests\n",
        "While the provided code does not directly address this prediction, future work could involve creating a predictive model using features such as lead time, previous cancellations, and customer demographics to predict the likelihood of high special requests.\n",
        "Visualizations\n",
        "Lead Time Distribution:\n",
        "\n",
        "A histogram of lead times is plotted to understand the distribution and frequency of lead times for bookings.\n",
        "Monthly Bookings:\n",
        "\n",
        "The number of bookings per month is visualized using a bar plot to identify peak booking periods.\n",
        "Cancellation Rates by Booking Type:\n",
        "\n",
        "A count plot is created to analyze cancellation rates based on booking changes, offering insights into customer behavior related to booking modifications.\n",
        "Lead Time vs. Hotel Type:\n",
        "\n",
        "A box plot is used to compare lead times across different hotel types, providing insights into planning behavior of guests.\n",
        "Special Requests vs. Customer Satisfaction:\n",
        "\n",
        "A box plot is created to explore the relationship between the number of special requests and customer satisfaction (measured by repeated guests).\n",
        "Conclusion\n",
        "This project provides a comprehensive analysis of hotel booking data, revealing key insights into booking trends, optimal booking periods, and customer behavior. The visualizations aid in understanding these patterns, helping hotel management make informed decisions. Future work could expand on predictive analytics to further enhance the decision-making process."
      ],
      "metadata": {
        "id": "F6v_1wHtG2nS"
      }
    },
    {
      "cell_type": "markdown",
      "source": [
        "# **GitHub Link -**"
      ],
      "metadata": {
        "id": "w6K7xa23Elo4"
      }
    },
    {
      "cell_type": "markdown",
      "source": [
        "Provide your GitHub Link here."
      ],
      "metadata": {
        "id": "h1o69JH3Eqqn"
      }
    },
    {
      "cell_type": "markdown",
      "source": [
        "# **Problem Statement**\n"
      ],
      "metadata": {
        "id": "yQaldy8SH6Dl"
      }
    },
    {
      "cell_type": "markdown",
      "source": [
        "The hospitality industry is highly competitive, with hotels constantly seeking ways to optimize their operations, improve customer satisfaction, and increase profitability. One crucial aspect of this is understanding customer booking behavior and identifying trends that can help in strategic planning. This project aims to analyze hotel booking data to uncover insights that can aid in making informed decisions about pricing, marketing, and resource allocation."
      ],
      "metadata": {
        "id": "DpeJGUA3kjGy"
      }
    },
    {
      "cell_type": "markdown",
      "source": [
        "#### **Define Your Business Objective?**"
      ],
      "metadata": {
        "id": "PH-0ReGfmX4f"
      }
    },
    {
      "cell_type": "markdown",
      "source": [
        "Data Cleaning and Preprocessing:\n",
        "\n",
        "Address missing values in key columns (agent, company) by filling them with appropriate statistical measures.\n",
        "Remove duplicate entries to ensure data integrity.\n",
        "Filter the data to focus on valid bookings with non-zero guests.\n",
        "Identify the Best Time to Book a Hotel:\n",
        "\n",
        "Determine the average daily rate (ADR) for Resort and City Hotels across different months.\n",
        "Identify the months with the lowest ADR to help customers find the best time to book and help hotel management plan promotions.\n",
        "Analyze Guest Rush Periods:\n",
        "\n",
        "Calculate the monthly guest counts for Resort and City Hotels.\n",
        "Identify peak periods of guest influx to aid in resource planning and management.\n",
        "Determine the Optimal Length of Stay:\n",
        "\n",
        "Analyze the total number of nights stayed (combining weekend and weeknights) to find the optimal length of stay that offers the best daily rate.\n",
        "Predict High Number of Special Requests:\n",
        "\n",
        "Develop a framework to predict whether a hotel booking is likely to receive a disproportionately high number of special requests, using features like lead time, booking changes, and customer demographics.\n",
        "Visualizations:\n",
        "\n",
        "Create meaningful visualizations to present key findings, including:\n",
        "Distribution of lead times.\n",
        "Monthly booking trends.\n",
        "Cancellation rates by booking type.\n",
        "Relationship between lead time and hotel type.\n",
        "Correlation between special requests and customer satisfaction."
      ],
      "metadata": {
        "id": "PhDvGCAqmjP1"
      }
    },
    {
      "cell_type": "markdown",
      "source": [
        "# **General Guidelines** : -  "
      ],
      "metadata": {
        "id": "mDgbUHAGgjLW"
      }
    },
    {
      "cell_type": "markdown",
      "source": [
        "1.   Well-structured, formatted, and commented code is required.\n",
        "2.   Exception Handling, Production Grade Code & Deployment Ready Code will be a plus. Those students will be awarded some additional credits.\n",
        "     \n",
        "     The additional credits will have advantages over other students during Star Student selection.\n",
        "       \n",
        "             [ Note: - Deployment Ready Code is defined as, the whole .ipynb notebook should be executable in one go\n",
        "                       without a single error logged. ]\n",
        "\n",
        "3.   Each and every logic should have proper comments.\n",
        "4. You may add as many number of charts you want. Make Sure for each and every chart the following format should be answered.\n",
        "        \n",
        "\n",
        "```\n",
        "# Chart visualization code\n",
        "```\n",
        "            \n",
        "\n",
        "*   Why did you pick the specific chart?\n",
        "*   What is/are the insight(s) found from the chart?\n",
        "* Will the gained insights help creating a positive business impact?\n",
        "Are there any insights that lead to negative growth? Justify with specific reason.\n",
        "\n",
        "5. You have to create at least 20 logical & meaningful charts having important insights.\n",
        "\n",
        "\n",
        "[ Hints : - Do the Vizualization in  a structured way while following \"UBM\" Rule.\n",
        "\n",
        "U - Univariate Analysis,\n",
        "\n",
        "B - Bivariate Analysis (Numerical - Categorical, Numerical - Numerical, Categorical - Categorical)\n",
        "\n",
        "M - Multivariate Analysis\n",
        " ]\n",
        "\n",
        "\n",
        "\n"
      ],
      "metadata": {
        "id": "ZrxVaUj-hHfC"
      }
    },
    {
      "cell_type": "markdown",
      "source": [
        "# ***Let's Begin !***"
      ],
      "metadata": {
        "id": "O_i_v8NEhb9l"
      }
    },
    {
      "cell_type": "markdown",
      "source": [
        "## ***1. Know Your Data***"
      ],
      "metadata": {
        "id": "HhfV-JJviCcP"
      }
    },
    {
      "cell_type": "markdown",
      "source": [
        "### Import Libraries"
      ],
      "metadata": {
        "id": "Y3lxredqlCYt"
      }
    },
    {
      "cell_type": "code",
      "source": [
        "# Import Libraries\n",
        "import numpy as np\n",
        "import pandas as pd\n",
        "import matplotlib.pyplot as plt\n",
        "import seaborn as sns\n",
        "import plotly.express as px\n",
        "from calendar import month_name"
      ],
      "metadata": {
        "id": "M8Vqi-pPk-HR"
      },
      "execution_count": null,
      "outputs": []
    },
    {
      "cell_type": "code",
      "source": [
        "from google.colab import drive\n",
        "drive.mount('/content/drive')"
      ],
      "metadata": {
        "id": "y-a1rwl4y_JL"
      },
      "execution_count": null,
      "outputs": []
    },
    {
      "cell_type": "markdown",
      "source": [
        "### Dataset Loading"
      ],
      "metadata": {
        "id": "3RnN4peoiCZX"
      }
    },
    {
      "cell_type": "code",
      "source": [
        "# Load Dataset\n",
        "df=pd.read_csv('/content/Hotel Bookings.csv')"
      ],
      "metadata": {
        "id": "4CkvbW_SlZ_R"
      },
      "execution_count": null,
      "outputs": []
    },
    {
      "cell_type": "markdown",
      "source": [
        "### Dataset First View"
      ],
      "metadata": {
        "id": "x71ZqKXriCWQ"
      }
    },
    {
      "cell_type": "code",
      "source": [
        "# Dataset First Look\n",
        "df.head()"
      ],
      "metadata": {
        "id": "LWNFOSvLl09H"
      },
      "execution_count": null,
      "outputs": []
    },
    {
      "cell_type": "markdown",
      "source": [
        "### Dataset Rows & Columns count"
      ],
      "metadata": {
        "id": "7hBIi_osiCS2"
      }
    },
    {
      "cell_type": "code",
      "source": [
        "# Dataset Rows & Columns count\n",
        "rows,columns=df.shape\n",
        "print(f'Rows:{rows}')\n",
        "print(f'Columns:{columns}')"
      ],
      "metadata": {
        "id": "Kllu7SJgmLij"
      },
      "execution_count": null,
      "outputs": []
    },
    {
      "cell_type": "markdown",
      "source": [
        "### Dataset Information"
      ],
      "metadata": {
        "id": "JlHwYmJAmNHm"
      }
    },
    {
      "cell_type": "code",
      "source": [
        "# Dataset Info\n",
        "df.info()"
      ],
      "metadata": {
        "id": "e9hRXRi6meOf"
      },
      "execution_count": null,
      "outputs": []
    },
    {
      "cell_type": "markdown",
      "source": [
        "#### Duplicate Values"
      ],
      "metadata": {
        "id": "35m5QtbWiB9F"
      }
    },
    {
      "cell_type": "code",
      "source": [
        "# Dataset Duplicate Value Count\n",
        "duplicate_count = df.duplicated().sum()\n",
        "print(f'Duplicate count: {duplicate_count}')\n",
        "df.drop_duplicates(inplace=True)"
      ],
      "metadata": {
        "id": "1sLdpKYkmox0"
      },
      "execution_count": null,
      "outputs": []
    },
    {
      "cell_type": "markdown",
      "source": [
        "#### Missing Values/Null Values"
      ],
      "metadata": {
        "id": "PoPl-ycgm1ru"
      }
    },
    {
      "cell_type": "code",
      "source": [
        "# Missing Values/Null Values Count\n",
        "null_values=df.isnull().sum()\n",
        "print(null_values)\n"
      ],
      "metadata": {
        "id": "GgHWkxvamxVg",
        "collapsed": true
      },
      "execution_count": null,
      "outputs": []
    },
    {
      "cell_type": "code",
      "source": [
        "# Visualizing the missing values\n",
        "plt.figure(figsize=(12, 8))\n",
        "sns.heatmap(df.isnull(), cbar=False, cmap='viridis', yticklabels=False)\n",
        "plt.title('Missing Values Heatmap')\n",
        "plt.xlabel('Columns')\n",
        "plt.ylabel('Rows')\n",
        "plt.show()"
      ],
      "metadata": {
        "id": "3q5wnI3om9sJ"
      },
      "execution_count": null,
      "outputs": []
    },
    {
      "cell_type": "markdown",
      "source": [
        "### What did you know about your dataset?"
      ],
      "metadata": {
        "id": "H0kj-8xxnORC"
      }
    },
    {
      "cell_type": "markdown",
      "source": [
        "Answer Here"
      ],
      "metadata": {
        "id": "gfoNAAC-nUe_"
      }
    },
    {
      "cell_type": "markdown",
      "source": [
        "## ***2. Understanding Your Variables***"
      ],
      "metadata": {
        "id": "nA9Y7ga8ng1Z"
      }
    },
    {
      "cell_type": "code",
      "source": [
        "# Dataset Columns\n",
        "# Print columns and their data types\n",
        "print(\"Dataset Columns and Data Types:\")\n",
        "print(df.dtypes)\n"
      ],
      "metadata": {
        "id": "j7xfkqrt5Ag5"
      },
      "execution_count": null,
      "outputs": []
    },
    {
      "cell_type": "code",
      "source": [
        "# Dataset Describe\n",
        "df.describe()"
      ],
      "metadata": {
        "id": "DnOaZdaE5Q5t"
      },
      "execution_count": null,
      "outputs": []
    },
    {
      "cell_type": "markdown",
      "source": [
        "### Variables Description"
      ],
      "metadata": {
        "id": "PBTbrJXOngz2"
      }
    },
    {
      "cell_type": "markdown",
      "source": [
        "Answer Here"
      ],
      "metadata": {
        "id": "aJV4KIxSnxay"
      }
    },
    {
      "cell_type": "markdown",
      "source": [
        "### Check Unique Values for each variable."
      ],
      "metadata": {
        "id": "u3PMJOP6ngxN"
      }
    },
    {
      "cell_type": "code",
      "source": [
        "# Check unique values in 'hotel' column after filtering\n",
        "print(\"Unique values in 'hotel' column after filtering:\")\n",
        "print(df['hotel'].unique())"
      ],
      "metadata": {
        "id": "zms12Yq5n-jE"
      },
      "execution_count": null,
      "outputs": []
    },
    {
      "cell_type": "markdown",
      "source": [
        "## 3. ***Data Wrangling***"
      ],
      "metadata": {
        "id": "dauF4eBmngu3"
      }
    },
    {
      "cell_type": "markdown",
      "source": [
        "### Data Wrangling Code"
      ],
      "metadata": {
        "id": "bKJF3rekwFvQ"
      }
    },
    {
      "cell_type": "code",
      "source": [
        "# Write your code to make your dataset analysis ready.\n",
        "df['agent'].fillna(df['agent'].mean(),inplace=True)\n",
        "df['company'].fillna(df['company'].mean(),inplace=True)\n",
        "df.drop_duplicates(inplace=True)\n",
        "\n",
        "df.dropna(inplace=True)\n",
        "print(df.isnull().sum())\n",
        "list_cols=[\"children\",\"adults\",\"babies\"]\n",
        "for i in list_cols:\n",
        "    print(f\"{i} has unique values as{df[i].unique()}\")\n",
        "filtered_data=(df['children']==0)& (df['adults']==0) & (df['babies']==0)\n",
        "final_data=df[~filtered_data]\n",
        "print(final_data.shape)\n",
        "#Best time of year to book the hotel\n",
        "# Convert arrival_date_month to a categorical type with the correct order\n",
        "df['arrival_date_month'] = pd.Categorical(df['arrival_date_month'],\n",
        "    categories=['January', 'February', 'March', 'April', 'May', 'June', 'July',\n",
        "                'August', 'September', 'October', 'November', 'December'],\n",
        "    ordered=True)\n",
        "\n",
        "# Calculate average ADR per month\n",
        "avg_adr_per_month = df.groupby('arrival_date_month')['adr'].mean().reset_index()\n",
        "\n",
        "# Plot the average ADR per month\n",
        "plt.figure(figsize=(12, 6))\n",
        "sns.barplot(x='arrival_date_month', y='adr', data=avg_adr_per_month, palette='viridis')\n",
        "plt.title('Average Daily Rate (ADR) by Month')\n",
        "plt.xlabel('Month')\n",
        "plt.ylabel('Average Daily Rate (ADR)')\n",
        "plt.xticks(rotation=45)\n",
        "plt.tight_layout()\n",
        "plt.show()\n"
      ],
      "metadata": {
        "id": "wk-9a2fpoLcV"
      },
      "execution_count": null,
      "outputs": []
    },
    {
      "cell_type": "code",
      "source": [
        "#let's analyze the optimal length of stay to get the best daily rate.\n",
        "# Calculate length of stay (total nights)\n",
        "df['length_of_stay'] = df['stays_in_weekend_nights'] + df['stays_in_week_nights']\n",
        "\n",
        "# Calculate average ADR by length of stay\n",
        "avg_adr_by_stay = df.groupby('length_of_stay')['adr'].mean().reset_index()\n",
        "\n",
        "# Plot the average ADR by length of stay\n",
        "plt.figure(figsize=(12, 6))\n",
        "sns.lineplot(x='length_of_stay', y='adr', data=avg_adr_by_stay, marker='o')\n",
        "plt.title('Average Daily Rate (ADR) by Length of Stay')\n",
        "plt.xlabel('Length of Stay (nights)')\n",
        "plt.ylabel('Average Daily Rate (ADR)')\n",
        "plt.grid(True)\n",
        "plt.tight_layout()\n",
        "plt.show()\n"
      ],
      "metadata": {
        "id": "C1HJ_n9Q97N1"
      },
      "execution_count": null,
      "outputs": []
    },
    {
      "cell_type": "code",
      "source": [
        "# Check the unique values in the 'hotel' column\n",
        "print(df['hotel'].unique())\n",
        "\n",
        "# Calculate the average number of special requests for each hotel type\n",
        "avg_special_requests = df.groupby('hotel')['total_of_special_requests'].mean().reset_index()\n",
        "\n",
        "# Plotting\n",
        "plt.figure(figsize=(10, 6))\n",
        "sns.barplot(x='hotel', y='total_of_special_requests', data=avg_special_requests)\n",
        "plt.title('Average Number of Special Requests by Hotel Type')\n",
        "plt.xlabel('Hotel Type')\n",
        "plt.ylabel('Average Number of Special Requests')\n",
        "plt.show()\n",
        "\n"
      ],
      "metadata": {
        "id": "x67iGHZ0-PTq"
      },
      "execution_count": null,
      "outputs": []
    },
    {
      "cell_type": "markdown",
      "source": [
        "### What all manipulations have you done and insights you found?"
      ],
      "metadata": {
        "id": "MSa1f5Uengrz"
      }
    },
    {
      "cell_type": "markdown",
      "source": [
        "Answer Here."
      ],
      "metadata": {
        "id": "LbyXE7I1olp8"
      }
    },
    {
      "cell_type": "markdown",
      "source": [
        "## ***4. Data Vizualization, Storytelling & Experimenting with charts : Understand the relationships between variables***"
      ],
      "metadata": {
        "id": "GF8Ens_Soomf"
      }
    },
    {
      "cell_type": "markdown",
      "source": [
        "#### Chart - 1"
      ],
      "metadata": {
        "id": "0wOQAZs5pc--"
      }
    },
    {
      "cell_type": "code",
      "source": [
        "# Chart - 1 visualization code\n",
        "plt.figure(figsize=(10,6))\n",
        "sns.histplot(df['lead_time'],bins=30,kde=True)\n",
        "plt.title('Distribution of lead time')\n",
        "plt.xlabel('Lead Time')\n",
        "plt.ylabel('Frequency')\n",
        "plt.show()"
      ],
      "metadata": {
        "id": "7v_ESjsspbW7"
      },
      "execution_count": null,
      "outputs": []
    },
    {
      "cell_type": "markdown",
      "source": [
        "##### 1. Why did you pick the specific chart?"
      ],
      "metadata": {
        "id": "K5QZ13OEpz2H"
      }
    },
    {
      "cell_type": "markdown",
      "source": [
        "I chose this histogram with a kernel density estimate (KDE) overlay for visualizing the distribution of lead time because it offers several key advantages:\n",
        "\n",
        "Clear Distribution View\n",
        "\n",
        "Smoothed Density Estimation\n",
        "\n",
        "Pattern Identification\n",
        "\n",
        "Outlier Detection\n",
        "\n",
        "Comprehensive Insight"
      ],
      "metadata": {
        "id": "XESiWehPqBRc"
      }
    },
    {
      "cell_type": "markdown",
      "source": [
        "##### 2. What is/are the insight(s) found from the chart?"
      ],
      "metadata": {
        "id": "lQ7QKXXCp7Bj"
      }
    },
    {
      "cell_type": "markdown",
      "source": [
        "Distribution Insight: The histogram provides a clear view of how lead time values are distributed across the range, showing the frequency of occurrences within specified bins.\n",
        "\n",
        "Comprehensive Insight: By using both the histogram and KDE, we gain a more comprehensive view of the data, facilitating better interpretation and insights that can inform business decisions or further statistical analysis."
      ],
      "metadata": {
        "id": "C_j1G7yiqdRP"
      }
    },
    {
      "cell_type": "markdown",
      "source": [
        "##### 3. Will the gained insights help creating a positive business impact?\n",
        "Are there any insights that lead to negative growth? Justify with specific reason."
      ],
      "metadata": {
        "id": "448CDAPjqfQr"
      }
    },
    {
      "cell_type": "markdown",
      "source": [
        "Yes, the insights gained from understanding lead time distribution can indeed create a positive business impact by improving operational efficiency, optimizing inventory management, and enhancing customer satisfaction. However, there could potentially be insights that lead to negative growth, such as discovering significant variability or inefficiencies in lead times that could increase costs, lead to stockouts, or result in inconsistent service delivery. Identifying these issues allows businesses to address them proactively, minimizing their negative impact and potentially turning them into opportunities for improvement."
      ],
      "metadata": {
        "id": "3cspy4FjqxJW"
      }
    },
    {
      "cell_type": "markdown",
      "source": [
        "#### Chart - 2"
      ],
      "metadata": {
        "id": "KSlN3yHqYklG"
      }
    },
    {
      "cell_type": "code",
      "source": [
        "# Chart - 2 visualization code\n",
        "df['arrival_date_month'] = pd.Categorical(df['arrival_date_month'],\n",
        "                                            categories=['January', 'February', 'March', 'April', 'May', 'June',\n",
        "                                                        'July', 'August', 'September', 'October', 'November', 'December'],\n",
        "                                            ordered=True)\n",
        "monthly_bookings = df['arrival_date_month'].value_counts().sort_index()\n",
        "plt.figure(figsize=(12, 6))\n",
        "sns.barplot(x=monthly_bookings.index, y=monthly_bookings.values)\n",
        "plt.title('Number of Bookings per Month')\n",
        "plt.xlabel('Month')\n",
        "plt.ylabel('Number of Bookings')\n",
        "plt.show()\n"
      ],
      "metadata": {
        "id": "R4YgtaqtYklH"
      },
      "execution_count": null,
      "outputs": []
    },
    {
      "cell_type": "markdown",
      "source": [
        "##### 1. Why did you pick the specific chart?"
      ],
      "metadata": {
        "id": "t6dVpIINYklI"
      }
    },
    {
      "cell_type": "markdown",
      "source": [
        "I chose a bar chart because it effectively displays the number of bookings per month, allowing for easy comparison of booking volumes across different months"
      ],
      "metadata": {
        "id": "5aaW0BYyYklI"
      }
    },
    {
      "cell_type": "markdown",
      "source": [
        "##### 2. What is/are the insight(s) found from the chart?"
      ],
      "metadata": {
        "id": "ijmpgYnKYklI"
      }
    },
    {
      "cell_type": "markdown",
      "source": [
        "The chart shows that certain months have higher booking volumes compared to others, indicating seasonal trends or periods of peak demand throughout the year."
      ],
      "metadata": {
        "id": "PSx9atu2YklI"
      }
    },
    {
      "cell_type": "markdown",
      "source": [
        "##### 3. Will the gained insights help creating a positive business impact?\n",
        "Are there any insights that lead to negative growth? Justify with specific reason."
      ],
      "metadata": {
        "id": "-JiQyfWJYklI"
      }
    },
    {
      "cell_type": "markdown",
      "source": [
        "Yes, understanding seasonal booking patterns can help businesses optimize staffing, pricing strategies, and marketing efforts to capitalize on peak periods, thereby potentially increasing revenue.\n",
        "\n",
        "If the chart reveals unexpected dips or fluctuations in booking numbers for crucial months, it could lead to negative growth by impacting revenue projections and operational planning. For instance, a significant drop in bookings during peak seasons could indicate missed opportunities or challenges in attracting customers during critical periods."
      ],
      "metadata": {
        "id": "BcBbebzrYklV"
      }
    },
    {
      "cell_type": "markdown",
      "source": [
        "#### Chart - 3"
      ],
      "metadata": {
        "id": "EM7whBJCYoAo"
      }
    },
    {
      "cell_type": "code",
      "source": [
        "# Chart - 3 visualization code\n",
        "plt.figure(figsize=(10,6))\n",
        "sns.countplot(x='is_canceled',hue='booking_changes',data=df)\n",
        "plt.title('Cancellation Rates by Booking Type')\n",
        "plt.xlabel('Cancellation Status')\n",
        "plt.ylabel('Count')\n",
        "plt.show()"
      ],
      "metadata": {
        "id": "t6GMdE67YoAp"
      },
      "execution_count": null,
      "outputs": []
    },
    {
      "cell_type": "markdown",
      "source": [
        "##### 1. Why did you pick the specific chart?"
      ],
      "metadata": {
        "id": "fge-S5ZAYoAp"
      }
    },
    {
      "cell_type": "markdown",
      "source": [
        "I chose a countplot because it effectively compares cancellation rates based on different booking change scenarios. This type of plot is ideal for visualizing categorical data and understanding how cancellation rates vary across different conditions."
      ],
      "metadata": {
        "id": "5dBItgRVYoAp"
      }
    },
    {
      "cell_type": "markdown",
      "source": [
        "##### 2. What is/are the insight(s) found from the chart?"
      ],
      "metadata": {
        "id": "85gYPyotYoAp"
      }
    },
    {
      "cell_type": "markdown",
      "source": [
        "The chart indicates how cancellation rates differ depending on whether there were booking changes. It shows whether bookings with changes have higher or lower cancellation rates compared to those without changes.\n"
      ],
      "metadata": {
        "id": "4jstXR6OYoAp"
      }
    },
    {
      "cell_type": "markdown",
      "source": [
        "##### 3. Will the gained insights help creating a positive business impact?\n",
        "Are there any insights that lead to negative growth? Justify with specific reason."
      ],
      "metadata": {
        "id": "RoGjAbkUYoAp"
      }
    },
    {
      "cell_type": "markdown",
      "source": [
        "Yes, understanding these cancellation patterns can help businesses optimize their booking policies and procedures. It allows them to identify scenarios where cancellations are more likely, enabling proactive measures to reduce cancellations and improve revenue stability.\n",
        "\n",
        "If the chart reveals that bookings with frequent changes have significantly higher cancellation rates, it could lead to negative growth by impacting revenue stability and operational efficiency. High cancellation rates in such scenarios might indicate dissatisfaction or uncertainty among customers, potentially affecting the business's reputation and financial outcomes."
      ],
      "metadata": {
        "id": "zfJ8IqMcYoAp"
      }
    },
    {
      "cell_type": "markdown",
      "source": [
        "#### Chart - 4"
      ],
      "metadata": {
        "id": "4Of9eVA-YrdM"
      }
    },
    {
      "cell_type": "code",
      "source": [
        "# Chart - 4 visualization code\n",
        "plt.figure(figsize=(10,6))\n",
        "sns.boxplot(x='hotel',y='lead_time',data=df)\n",
        "plt.title('Lead Time vs. Hotel Type')\n",
        "plt.xlabel('Hotel  Type')\n",
        "plt.ylabel('Lead Time')\n",
        "plt.show()"
      ],
      "metadata": {
        "id": "irlUoxc8YrdO"
      },
      "execution_count": null,
      "outputs": []
    },
    {
      "cell_type": "markdown",
      "source": [
        "##### 1. Why did you pick the specific chart?"
      ],
      "metadata": {
        "id": "iky9q4vBYrdO"
      }
    },
    {
      "cell_type": "markdown",
      "source": [
        "I chose a boxplot because it effectively displays the distribution of lead time across different types of hotels. This type of plot is useful for comparing the central tendency, spread, and potential outliers of lead time data between different categories (in this case, types of hotels)."
      ],
      "metadata": {
        "id": "aJRCwT6DYrdO"
      }
    },
    {
      "cell_type": "markdown",
      "source": [
        "##### 2. What is/are the insight(s) found from the chart?"
      ],
      "metadata": {
        "id": "F6T5p64dYrdO"
      }
    },
    {
      "cell_type": "markdown",
      "source": [
        "The boxplot reveals the median lead time, quartiles, and any outliers for each hotel type. It shows whether lead times vary significantly between different types of hotels and if there are any notable differences in booking patterns."
      ],
      "metadata": {
        "id": "Xx8WAJvtYrdO"
      }
    },
    {
      "cell_type": "markdown",
      "source": [
        "##### 3. Will the gained insights help creating a positive business impact?\n",
        "Are there any insights that lead to negative growth? Justify with specific reason."
      ],
      "metadata": {
        "id": "y-Ehk30pYrdP"
      }
    },
    {
      "cell_type": "markdown",
      "source": [
        "Yes, understanding how lead times vary across different hotel types can help businesses tailor their operational strategies accordingly. For example, it can inform staffing levels, resource allocation, and customer service expectations based on typical lead time patterns for each type of hotel.\n",
        "\n",
        "If the boxplot indicates that certain types of hotels consistently have longer lead times compared to others, it could lead to negative growth if not properly managed. Longer lead times might lead to reduced customer satisfaction, higher cancellation rates, or missed revenue opportunities due to delayed bookings. Addressing such insights proactively is crucial to mitigate potential negative impacts on business growth and profitability."
      ],
      "metadata": {
        "id": "jLNxxz7MYrdP"
      }
    },
    {
      "cell_type": "markdown",
      "source": [
        "#### Chart - 5"
      ],
      "metadata": {
        "id": "bamQiAODYuh1"
      }
    },
    {
      "cell_type": "code",
      "source": [
        "# Chart - 5 visualization code\n",
        "plt.figure(figsize=(10,6))\n",
        "sns.boxplot(x='total_of_special_requests', y='is_repeated_guest', data=df)\n",
        "plt.title('Special Requests vs. Customer Satisfaction')\n",
        "plt.xlabel('Number of Special Requests')\n",
        "plt.ylabel('Customer Satisfaction Rating')\n",
        "plt.show()"
      ],
      "metadata": {
        "id": "TIJwrbroYuh3"
      },
      "execution_count": null,
      "outputs": []
    },
    {
      "cell_type": "markdown",
      "source": [
        "##### 1. Why did you pick the specific chart?"
      ],
      "metadata": {
        "id": "QHF8YVU7Yuh3"
      }
    },
    {
      "cell_type": "markdown",
      "source": [
        "I chose a boxplot because it effectively shows the distribution of customer satisfaction ratings (represented by is_repeated_guest) across different levels of special requests. This plot type is suitable for comparing how customer satisfaction varies based on the number of special requests made."
      ],
      "metadata": {
        "id": "dcxuIMRPYuh3"
      }
    },
    {
      "cell_type": "markdown",
      "source": [
        "##### 2. What is/are the insight(s) found from the chart?"
      ],
      "metadata": {
        "id": "GwzvFGzlYuh3"
      }
    },
    {
      "cell_type": "markdown",
      "source": [
        "The boxplot reveals whether there is a relationship between the number of special requests and customer satisfaction ratings. It shows the central tendency (median), spread (quartiles), and potential outliers in customer satisfaction for each level of special requests."
      ],
      "metadata": {
        "id": "uyqkiB8YYuh3"
      }
    },
    {
      "cell_type": "markdown",
      "source": [
        "##### 3. Will the gained insights help creating a positive business impact?\n",
        "Are there any insights that lead to negative growth? Justify with specific reason."
      ],
      "metadata": {
        "id": "qYpmQ266Yuh3"
      }
    },
    {
      "cell_type": "markdown",
      "source": [
        "Yes, understanding how customer satisfaction varies based on special requests can help businesses tailor their service offerings. For example, it can inform training programs for staff handling special requests, or influence pricing strategies for packages that include additional services.\n",
        "\n",
        "If the boxplot indicates that higher numbers of special requests are associated with lower customer satisfaction ratings, it could lead to negative growth if not addressed. This might suggest issues with service delivery, customer expectations management, or the need for improvements in fulfilling special requests effectively. Addressing such insights promptly is crucial to maintain or enhance customer satisfaction levels and ensure positive business growth."
      ],
      "metadata": {
        "id": "_WtzZ_hCYuh4"
      }
    },
    {
      "cell_type": "markdown",
      "source": [
        "## **5. Solution to Business Objective**"
      ],
      "metadata": {
        "id": "JcMwzZxoAimU"
      }
    },
    {
      "cell_type": "markdown",
      "source": [
        "#### What do you suggest the client to achieve Business Objective ?\n",
        "Explain Briefly."
      ],
      "metadata": {
        "id": "8G2x9gOozGDZ"
      }
    },
    {
      "cell_type": "markdown",
      "source": [
        "1. Understanding Special Requests Trends\n",
        "Insight: The average number of special requests differs between \"Resort Hotel\" and \"City Hotel\". If one type receives significantly more special requests, it indicates that guests at this type of hotel may have higher expectations or specific needs.\n",
        "Action: Tailor services and staff training to better meet these expectations. For example, if \"Resort Hotel\" guests make more special requests, enhance concierge services and ensure prompt handling of requests.\n",
        "2. Enhancing Guest Experience\n",
        "Insight: By identifying the common types of special requests (e.g., extra pillows, early check-in), the hotel can proactively offer these services or make them more easily accessible.\n",
        "Action: Create pre-arrival questionnaires for guests to fill out their preferences and requests. Implement a more flexible check-in/check-out system and ensure popular requests are accommodated without hassle.\n",
        "3. Optimizing Operations\n",
        "Insight: Understanding the lead time and booking patterns can help in better managing resources and staff.\n",
        "Action: Use booking data to predict busy periods and allocate resources accordingly. Implement dynamic staffing models where more staff are available during peak times identified from booking patterns.\n",
        "4. Personalizing Marketing Efforts\n",
        "Insight: Market segments and distribution channels give insight into where most bookings come from and what kind of guests are booking.\n",
        "Action: Develop targeted marketing campaigns for the most lucrative segments. Offer personalized deals and discounts for repeat guests or those booking through specific channels that bring in high-value customers.\n",
        "5. Leveraging Technology\n",
        "Insight: Analysis of special requests and customer preferences can be greatly enhanced with the use of technology.\n",
        "Action: Implement a CRM system to track guest preferences and requests. Use AI and machine learning models to predict and suggest potential special requests based on past data.\n",
        "6. Improving Facilities Based on Feedback\n",
        "Insight: Feedback and special requests provide direct input from guests about what they value.\n",
        "Action: Regularly review and analyze feedback and special requests to identify areas for improvement. Invest in facilities that are frequently requested or mentioned in feedback."
      ],
      "metadata": {
        "id": "pASKb0qOza21"
      }
    },
    {
      "cell_type": "markdown",
      "source": [
        "# **Conclusion**"
      ],
      "metadata": {
        "id": "gCX9965dhzqZ"
      }
    },
    {
      "cell_type": "markdown",
      "source": [
        "The boxplot analysis of special requests vs. customer satisfaction reveals valuable insights:\n",
        "\n",
        "Insights: It shows how customer satisfaction ratings vary across different levels of special requests. The plot highlights the median satisfaction level, quartiles, and potential outliers for each category of special requests.\n",
        "\n",
        "Positive Impact: Understanding this relationship can help businesses enhance customer satisfaction by optimizing service delivery for special requests. This includes improving staff training, refining service packages, and better managing customer expectations.\n",
        "\n",
        "Negative Impact: High numbers of special requests correlating with lower satisfaction ratings could indicate operational inefficiencies or gaps in service delivery. Addressing these issues is crucial to mitigate negative impacts on customer retention and overall business growth.\n",
        "\n",
        "Overall, leveraging insights from this analysis can empower businesses to tailor their services effectively, thereby enhancing customer satisfaction and fostering positive business outcomes."
      ],
      "metadata": {
        "id": "Fjb1IsQkh3yE"
      }
    },
    {
      "cell_type": "markdown",
      "source": [
        "### ***Hurrah! You have successfully completed your EDA Capstone Project !!!***"
      ],
      "metadata": {
        "id": "gIfDvo9L0UH2"
      }
    }
  ]
}